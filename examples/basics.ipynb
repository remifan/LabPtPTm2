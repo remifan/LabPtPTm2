{
 "cells": [
  {
   "cell_type": "markdown",
   "id": "5f0b2c95-1c93-4c75-8b0d-db09536e7b98",
   "metadata": {},
   "source": [
    "# How to access the data\n",
    "[![Binder](https://mybinder.org/badge_logo.svg)](https://mybinder.org/v2/gh/remifan/LabPtPTm2/HEAD?filepath=examples%2Fbasics.ipynb)\n",
    "[![Open In Colab](https://colab.research.google.com/assets/colab-badge.svg)](https://colab.research.google.com/github/remifan/LabPtPTm2/blob/master/examples/basics.ipynb)\n",
    "\n",
    "(Binder is better for the interactive content of this notebook)"
   ]
  },
  {
   "cell_type": "code",
   "execution_count": 1,
   "id": "311508a1-c6ea-4e44-8e1a-31a26109a5e5",
   "metadata": {
    "execution": {
     "iopub.execute_input": "2021-09-29T07:12:13.918721Z",
     "iopub.status.busy": "2021-09-29T07:12:13.918459Z",
     "iopub.status.idle": "2021-09-29T07:12:14.146134Z",
     "shell.execute_reply": "2021-09-29T07:12:14.145899Z",
     "shell.execute_reply.started": "2021-09-29T07:12:13.918654Z"
    },
    "tags": []
   },
   "outputs": [
    {
     "name": "stderr",
     "output_type": "stream",
     "text": [
      "WARNING:root:Data would be auto-cached in default temporary location: /tmp/labptptm2, set labptptm2.config.cache_storage to other locations to suppress this warning\n"
     ]
    }
   ],
   "source": [
    "import labptptm2"
   ]
  },
  {
   "cell_type": "markdown",
   "id": "b0c9119c-c5b4-48f4-982e-e14267358044",
   "metadata": {
    "execution": {
     "iopub.execute_input": "2021-09-28T05:58:12.147590Z",
     "iopub.status.busy": "2021-09-28T05:58:12.147373Z",
     "iopub.status.idle": "2021-09-28T05:58:12.150361Z",
     "shell.execute_reply": "2021-09-28T05:58:12.149843Z",
     "shell.execute_reply.started": "2021-09-28T05:58:12.147568Z"
    }
   },
   "source": [
    "## Convenience API"
   ]
  },
  {
   "cell_type": "markdown",
   "id": "4e8f5655-0d89-4fbc-a8c7-b0f1e98baccd",
   "metadata": {
    "execution": {
     "iopub.execute_input": "2021-09-28T06:41:55.987644Z",
     "iopub.status.busy": "2021-09-28T06:41:55.987043Z",
     "iopub.status.idle": "2021-09-28T06:41:55.989960Z",
     "shell.execute_reply": "2021-09-28T06:41:55.989507Z",
     "shell.execute_reply.started": "2021-09-28T06:41:55.987619Z"
    }
   },
   "source": [
    "### Data selection"
   ]
  },
  {
   "cell_type": "markdown",
   "id": "604618f8-3f31-4193-ba47-34092fd35fb0",
   "metadata": {},
   "source": [
    "The typical data selection looks like this"
   ]
  },
  {
   "cell_type": "code",
   "execution_count": 2,
   "id": "d9545538-eb49-4fc0-a5c2-cb7f751762a0",
   "metadata": {
    "execution": {
     "iopub.execute_input": "2021-09-29T07:12:18.727164Z",
     "iopub.status.busy": "2021-09-29T07:12:18.726294Z",
     "iopub.status.idle": "2021-09-29T07:12:19.553056Z",
     "shell.execute_reply": "2021-09-29T07:12:19.552627Z",
     "shell.execute_reply.started": "2021-09-29T07:12:18.727128Z"
    },
    "tags": []
   },
   "outputs": [],
   "source": [
    "dat_grp, sup_grp = labptptm2.select(1, 0, 4, 2)"
   ]
  },
  {
   "cell_type": "markdown",
   "id": "2a377690-0d93-409d-ae56-01c82f7232d5",
   "metadata": {},
   "source": [
    "the 4 input arguments of `select` identify each collected data file:\n",
    "- arg#1: int, random source sequence identifier, which can be either 1 or 2\n",
    "- arg#2: int, launched power in dBm unit, which must be a member of [-5, -4, -3, -2, -1, 0, 1, 2, 3]\n",
    "- arg#3: int, channel index, which is member of [1, 2, 3, 4, 5, 6, 7]\n",
    "- arg#4: int, index of scope captures under the same link configuration, a member of [1, 2, 3]\n",
    "\n",
    "`select` returns 2 objects, a `list` of data groups and a `list` of supplymentary data groups.\n",
    "\n",
    "Each data group contains recieved samples (resampled to 2 samples/symbol), synchronized sent symbols and attributes; each supplymentary data group contains auxiliary infomation such as estimated frequency offset and chromatic dispersion.\n",
    "\n",
    "multi-selection is supported by a list of specifications:\n",
    "``` python\n",
    "dat_grp, sup_grp = labptptm2.select(1, [0, 1], [4, 7], 2)\n",
    "```\n",
    "\n",
    "since we only input a single specification, the returned list has only 1 group:"
   ]
  },
  {
   "cell_type": "code",
   "execution_count": 3,
   "id": "78f0e158-3667-4532-ae06-5923bd444c3f",
   "metadata": {
    "execution": {
     "iopub.execute_input": "2021-09-29T07:12:20.742802Z",
     "iopub.status.busy": "2021-09-29T07:12:20.742459Z",
     "iopub.status.idle": "2021-09-29T07:12:20.753849Z",
     "shell.execute_reply": "2021-09-29T07:12:20.753601Z",
     "shell.execute_reply.started": "2021-09-29T07:12:20.742776Z"
    },
    "tags": []
   },
   "outputs": [
    {
     "data": {
      "text/html": [
       "<table class=\"zarr-info\"><tbody><tr><th style=\"text-align: left\">Name</th><td style=\"text-align: left\">/1125km_SSMF/src1/0dBm_ch4_2</td></tr><tr><th style=\"text-align: left\">Type</th><td style=\"text-align: left\">zarr.hierarchy.Group</td></tr><tr><th style=\"text-align: left\">Read-only</th><td style=\"text-align: left\">False</td></tr><tr><th style=\"text-align: left\">Store type</th><td style=\"text-align: left\">zarr.storage.ConsolidatedMetadataStore</td></tr><tr><th style=\"text-align: left\">Chunk store type</th><td style=\"text-align: left\">zarr.storage.FSStore</td></tr><tr><th style=\"text-align: left\">No. members</th><td style=\"text-align: left\">2</td></tr><tr><th style=\"text-align: left\">No. arrays</th><td style=\"text-align: left\">2</td></tr><tr><th style=\"text-align: left\">No. groups</th><td style=\"text-align: left\">0</td></tr><tr><th style=\"text-align: left\">Arrays</th><td style=\"text-align: left\">recv, sent</td></tr></tbody></table>"
      ],
      "text/plain": [
       "Name             : /1125km_SSMF/src1/0dBm_ch4_2\n",
       "Type             : zarr.hierarchy.Group\n",
       "Read-only        : False\n",
       "Store type       : zarr.storage.ConsolidatedMetadataStore\n",
       "Chunk store type : zarr.storage.FSStore\n",
       "No. members      : 2\n",
       "No. arrays       : 2\n",
       "No. groups       : 0\n",
       "Arrays           : recv, sent"
      ]
     },
     "execution_count": 3,
     "metadata": {},
     "output_type": "execute_result"
    }
   ],
   "source": [
    "dat_grp[0].info"
   ]
  },
  {
   "cell_type": "markdown",
   "id": "102e09b3-8a48-4b7a-bd19-c3cee72a2a03",
   "metadata": {},
   "source": [
    "The data group contains 2 arrays named 'recv' and 'sent',\n",
    "and we can inspect their shapes and No. bytes"
   ]
  },
  {
   "cell_type": "code",
   "execution_count": 4,
   "id": "604562f1-fbda-44f6-9814-a37299ffb398",
   "metadata": {
    "execution": {
     "iopub.execute_input": "2021-09-29T07:12:22.084756Z",
     "iopub.status.busy": "2021-09-29T07:12:22.084530Z",
     "iopub.status.idle": "2021-09-29T07:12:22.162612Z",
     "shell.execute_reply": "2021-09-29T07:12:22.162199Z",
     "shell.execute_reply.started": "2021-09-29T07:12:22.084733Z"
    },
    "tags": []
   },
   "outputs": [
    {
     "data": {
      "text/html": [
       "<table class=\"zarr-info\"><tbody><tr><th style=\"text-align: left\">Name</th><td style=\"text-align: left\">/1125km_SSMF/src1/0dBm_ch4_2/recv</td></tr><tr><th style=\"text-align: left\">Type</th><td style=\"text-align: left\">zarr.core.Array</td></tr><tr><th style=\"text-align: left\">Data type</th><td style=\"text-align: left\">complex64</td></tr><tr><th style=\"text-align: left\">Shape</th><td style=\"text-align: left\">(4500000, 2)</td></tr><tr><th style=\"text-align: left\">Chunk shape</th><td style=\"text-align: left\">(140625, 1)</td></tr><tr><th style=\"text-align: left\">Order</th><td style=\"text-align: left\">C</td></tr><tr><th style=\"text-align: left\">Read-only</th><td style=\"text-align: left\">False</td></tr><tr><th style=\"text-align: left\">Compressor</th><td style=\"text-align: left\">Blosc(cname='lz4', clevel=5, shuffle=SHUFFLE, blocksize=0)</td></tr><tr><th style=\"text-align: left\">Store type</th><td style=\"text-align: left\">zarr.storage.ConsolidatedMetadataStore</td></tr><tr><th style=\"text-align: left\">Chunk store type</th><td style=\"text-align: left\">zarr.storage.FSStore</td></tr><tr><th style=\"text-align: left\">No. bytes</th><td style=\"text-align: left\">72000000 (68.7M)</td></tr><tr><th style=\"text-align: left\">Chunks initialized</th><td style=\"text-align: left\">64/64</td></tr></tbody></table>"
      ],
      "text/plain": [
       "Name               : /1125km_SSMF/src1/0dBm_ch4_2/recv\n",
       "Type               : zarr.core.Array\n",
       "Data type          : complex64\n",
       "Shape              : (4500000, 2)\n",
       "Chunk shape        : (140625, 1)\n",
       "Order              : C\n",
       "Read-only          : False\n",
       "Compressor         : Blosc(cname='lz4', clevel=5, shuffle=SHUFFLE, blocksize=0)\n",
       "Store type         : zarr.storage.ConsolidatedMetadataStore\n",
       "Chunk store type   : zarr.storage.FSStore\n",
       "No. bytes          : 72000000 (68.7M)\n",
       "Chunks initialized : 64/64"
      ]
     },
     "execution_count": 4,
     "metadata": {},
     "output_type": "execute_result"
    }
   ],
   "source": [
    "dat_grp[0]['recv'].info # you don't have to understand all of those information."
   ]
  },
  {
   "cell_type": "markdown",
   "id": "fce21676-cda9-4a66-802f-80b7ebed474a",
   "metadata": {},
   "source": [
    "The attributes is a `dict` contains the information of the experiment"
   ]
  },
  {
   "cell_type": "code",
   "execution_count": 5,
   "id": "14379892-60e6-4db8-9b60-406e2745f909",
   "metadata": {
    "execution": {
     "iopub.execute_input": "2021-09-29T07:12:26.677763Z",
     "iopub.status.busy": "2021-09-29T07:12:26.677544Z",
     "iopub.status.idle": "2021-09-29T07:12:26.681976Z",
     "shell.execute_reply": "2021-09-29T07:12:26.681583Z",
     "shell.execute_reply.started": "2021-09-29T07:12:26.677741Z"
    },
    "tags": []
   },
   "outputs": [
    {
     "data": {
      "text/plain": [
       "{'baudrate': 36000000000.0,\n",
       " 'channelindex': 4,\n",
       " 'channels': 7,\n",
       " 'distance': 1125000.0,\n",
       " 'lpdbm': 0.0,\n",
       " 'lpw': 0.001,\n",
       " 'modformat': '16QAM',\n",
       " 'polmux': 1,\n",
       " 'samplerate': 72000000000.0,\n",
       " 'spans': 15,\n",
       " 'srcid': 'src1'}"
      ]
     },
     "execution_count": 5,
     "metadata": {},
     "output_type": "execute_result"
    }
   ],
   "source": [
    "dict(dat_grp[0].attrs)"
   ]
  },
  {
   "cell_type": "markdown",
   "id": "ab2305db-91cb-4930-9d47-cb9f66fa5f50",
   "metadata": {},
   "source": [
    "Similarily, you can `info` the supplimentary data group"
   ]
  },
  {
   "cell_type": "code",
   "execution_count": 6,
   "id": "65914893-1ea7-4eb8-9c69-5ebe73b40c42",
   "metadata": {
    "execution": {
     "iopub.execute_input": "2021-09-29T07:12:27.830258Z",
     "iopub.status.busy": "2021-09-29T07:12:27.830035Z",
     "iopub.status.idle": "2021-09-29T07:12:27.835769Z",
     "shell.execute_reply": "2021-09-29T07:12:27.835401Z",
     "shell.execute_reply.started": "2021-09-29T07:12:27.830235Z"
    },
    "tags": []
   },
   "outputs": [
    {
     "data": {
      "text/html": [
       "<table class=\"zarr-info\"><tbody><tr><th style=\"text-align: left\">Name</th><td style=\"text-align: left\">/supdata/src1/0dBm_ch4_2</td></tr><tr><th style=\"text-align: left\">Type</th><td style=\"text-align: left\">zarr.hierarchy.Group</td></tr><tr><th style=\"text-align: left\">Read-only</th><td style=\"text-align: left\">False</td></tr><tr><th style=\"text-align: left\">Store type</th><td style=\"text-align: left\">zarr.storage.ConsolidatedMetadataStore</td></tr><tr><th style=\"text-align: left\">Chunk store type</th><td style=\"text-align: left\">zarr.storage.FSStore</td></tr><tr><th style=\"text-align: left\">No. members</th><td style=\"text-align: left\">1</td></tr><tr><th style=\"text-align: left\">No. arrays</th><td style=\"text-align: left\">1</td></tr><tr><th style=\"text-align: left\">No. groups</th><td style=\"text-align: left\">0</td></tr><tr><th style=\"text-align: left\">Arrays</th><td style=\"text-align: left\">nfo</td></tr></tbody></table>"
      ],
      "text/plain": [
       "Name             : /supdata/src1/0dBm_ch4_2\n",
       "Type             : zarr.hierarchy.Group\n",
       "Read-only        : False\n",
       "Store type       : zarr.storage.ConsolidatedMetadataStore\n",
       "Chunk store type : zarr.storage.FSStore\n",
       "No. members      : 1\n",
       "No. arrays       : 1\n",
       "No. groups       : 0\n",
       "Arrays           : nfo"
      ]
     },
     "execution_count": 6,
     "metadata": {},
     "output_type": "execute_result"
    }
   ],
   "source": [
    "sup_grp[0].info"
   ]
  },
  {
   "cell_type": "code",
   "execution_count": 7,
   "id": "2d995ee1-9b68-4592-b312-0c3610647f3a",
   "metadata": {
    "execution": {
     "iopub.execute_input": "2021-09-29T07:12:28.358489Z",
     "iopub.status.busy": "2021-09-29T07:12:28.358270Z",
     "iopub.status.idle": "2021-09-29T07:12:28.362339Z",
     "shell.execute_reply": "2021-09-29T07:12:28.361937Z",
     "shell.execute_reply.started": "2021-09-29T07:12:28.358467Z"
    },
    "tags": []
   },
   "outputs": [
    {
     "data": {
      "text/plain": [
       "{'cd': 18.451}"
      ]
     },
     "execution_count": 7,
     "metadata": {},
     "output_type": "execute_result"
    }
   ],
   "source": [
    "dict(sup_grp[0].attrs)"
   ]
  },
  {
   "cell_type": "markdown",
   "id": "ef554058-4d36-4727-a387-beebefa554c8",
   "metadata": {},
   "source": [
    "### Data downloading"
   ]
  },
  {
   "cell_type": "markdown",
   "id": "179fe9de-040e-43f6-9cee-fa5a61e9319e",
   "metadata": {},
   "source": [
    "So far, there is no actual data downloading yet. We can trigger the data download by slicing the arrays"
   ]
  },
  {
   "cell_type": "code",
   "execution_count": 8,
   "id": "35c1d755-0f33-446e-a466-8420750a7d60",
   "metadata": {
    "execution": {
     "iopub.execute_input": "2021-09-29T07:13:07.834361Z",
     "iopub.status.busy": "2021-09-29T07:13:07.834139Z",
     "iopub.status.idle": "2021-09-29T07:13:08.398337Z",
     "shell.execute_reply": "2021-09-29T07:13:08.397917Z",
     "shell.execute_reply.started": "2021-09-29T07:13:07.834337Z"
    },
    "tags": []
   },
   "outputs": [
    {
     "name": "stdout",
     "output_type": "stream",
     "text": [
      "CPU times: user 19.2 ms, sys: 9.88 ms, total: 29.1 ms\n",
      "Wall time: 559 ms\n"
     ]
    },
    {
     "data": {
      "text/plain": [
       "array([[-0.00305913-0.00367398j,  0.02140145-0.07081664j],\n",
       "       [ 0.01202397-0.00803816j, -0.0013208 -0.05736233j],\n",
       "       [ 0.02396413-0.01456006j, -0.01560492-0.04063822j],\n",
       "       ...,\n",
       "       [-0.01968213-0.00502888j, -0.02807888-0.0379972j ],\n",
       "       [-0.01955158-0.01066033j, -0.02267638-0.02884825j],\n",
       "       [ 0.00173824-0.01677127j,  0.00122746-0.00630978j]],\n",
       "      dtype=complex64)"
      ]
     },
     "execution_count": 8,
     "metadata": {},
     "output_type": "execute_result"
    }
   ],
   "source": [
    "%time dat_grp[0]['recv'][:100000]  # download the first 100K samples"
   ]
  },
  {
   "cell_type": "code",
   "execution_count": 9,
   "id": "11f16eec-eb0a-40f1-bff5-d240728fa3ef",
   "metadata": {
    "execution": {
     "iopub.execute_input": "2021-09-29T07:13:11.511849Z",
     "iopub.status.busy": "2021-09-29T07:13:11.511625Z",
     "iopub.status.idle": "2021-09-29T07:13:17.605652Z",
     "shell.execute_reply": "2021-09-29T07:13:17.605358Z",
     "shell.execute_reply.started": "2021-09-29T07:13:11.511826Z"
    },
    "tags": []
   },
   "outputs": [
    {
     "name": "stdout",
     "output_type": "stream",
     "text": [
      "CPU times: user 583 ms, sys: 140 ms, total: 722 ms\n",
      "Wall time: 6.09 s\n"
     ]
    },
    {
     "data": {
      "text/plain": [
       "array([[-0.00305913-0.00367398j,  0.02140145-0.07081664j],\n",
       "       [ 0.01202397-0.00803816j, -0.0013208 -0.05736233j],\n",
       "       [ 0.02396413-0.01456006j, -0.01560492-0.04063822j],\n",
       "       ...,\n",
       "       [-0.03961598+0.02778501j,  0.01610195+0.02478129j],\n",
       "       [-0.02261471+0.03245351j,  0.02470688+0.01263798j],\n",
       "       [ 0.00126897+0.00130212j,  0.02451321-0.00247592j]],\n",
       "      dtype=complex64)"
      ]
     },
     "execution_count": 9,
     "metadata": {},
     "output_type": "execute_result"
    }
   ],
   "source": [
    "%time dat_grp[0]['recv'][:]  # download the all 4.5M samples"
   ]
  },
  {
   "cell_type": "markdown",
   "id": "34c2ba9c-ff67-4791-9de4-a95cbea63fde",
   "metadata": {},
   "source": [
    "Downloading full waveform takes longer time, it is because the amount of data to download is determined by the slicing window. It is nice to have this feature when we run a small demo in a ad-hoc environment. "
   ]
  },
  {
   "cell_type": "markdown",
   "id": "964dd24b-c872-40c6-a702-6071c993ad30",
   "metadata": {},
   "source": [
    "### Local cache"
   ]
  },
  {
   "cell_type": "markdown",
   "id": "55189397-af1f-4e2d-adb2-3560f27f9ab7",
   "metadata": {},
   "source": [
    "We may often re-use the same data many times, for example, re-running the above codes after restarting Notebook's kernel"
   ]
  },
  {
   "cell_type": "code",
   "execution_count": 10,
   "id": "1e82078e-087b-40fe-903d-1b78d065f31a",
   "metadata": {
    "execution": {
     "iopub.execute_input": "2021-09-29T07:14:44.929546Z",
     "iopub.status.busy": "2021-09-29T07:14:44.929324Z",
     "iopub.status.idle": "2021-09-29T07:14:44.975233Z",
     "shell.execute_reply": "2021-09-29T07:14:44.974838Z",
     "shell.execute_reply.started": "2021-09-29T07:14:44.929522Z"
    },
    "tags": []
   },
   "outputs": [
    {
     "name": "stdout",
     "output_type": "stream",
     "text": [
      "CPU times: user 29.6 ms, sys: 12.6 ms, total: 42.2 ms\n",
      "Wall time: 41.3 ms\n"
     ]
    },
    {
     "data": {
      "text/plain": [
       "array([[-0.00305913-0.00367398j,  0.02140145-0.07081664j],\n",
       "       [ 0.01202397-0.00803816j, -0.0013208 -0.05736233j],\n",
       "       [ 0.02396413-0.01456006j, -0.01560492-0.04063822j],\n",
       "       ...,\n",
       "       [-0.03961598+0.02778501j,  0.01610195+0.02478129j],\n",
       "       [-0.02261471+0.03245351j,  0.02470688+0.01263798j],\n",
       "       [ 0.00126897+0.00130212j,  0.02451321-0.00247592j]],\n",
       "      dtype=complex64)"
      ]
     },
     "execution_count": 10,
     "metadata": {},
     "output_type": "execute_result"
    }
   ],
   "source": [
    "%time dat_grp[0]['recv'][:]  # download the all 4.5M samples"
   ]
  },
  {
   "cell_type": "markdown",
   "id": "e9f5cd52-6b16-4230-9d44-f98f173dd04d",
   "metadata": {},
   "source": [
    "the same code that took seconds at first call now just finished in no time! This is because the data is cached locally at first call, so that further calls only load data from local cache."
   ]
  },
  {
   "cell_type": "code",
   "execution_count": 11,
   "id": "2395516a-dca9-4aaa-9ba1-42c7edf58051",
   "metadata": {
    "execution": {
     "iopub.execute_input": "2021-09-29T07:14:48.855554Z",
     "iopub.status.busy": "2021-09-29T07:14:48.855335Z",
     "iopub.status.idle": "2021-09-29T07:14:48.859366Z",
     "shell.execute_reply": "2021-09-29T07:14:48.858970Z",
     "shell.execute_reply.started": "2021-09-29T07:14:48.855531Z"
    },
    "tags": []
   },
   "outputs": [
    {
     "data": {
      "text/plain": [
       "'/tmp/labptptm2'"
      ]
     },
     "execution_count": 11,
     "metadata": {},
     "output_type": "execute_result"
    }
   ],
   "source": [
    "labptptm2.config.cache_storage  # this is the cache location for this Notebook environment"
   ]
  },
  {
   "cell_type": "code",
   "execution_count": 12,
   "id": "b167ee67-7aba-4773-998f-7450cf298e81",
   "metadata": {
    "execution": {
     "iopub.execute_input": "2021-09-29T07:14:49.665449Z",
     "iopub.status.busy": "2021-09-29T07:14:49.664851Z",
     "iopub.status.idle": "2021-09-29T07:14:49.669905Z",
     "shell.execute_reply": "2021-09-29T07:14:49.669513Z",
     "shell.execute_reply.started": "2021-09-29T07:14:49.665423Z"
    },
    "tags": []
   },
   "outputs": [
    {
     "data": {
      "text/plain": [
       "['36fd9c9c29800e34c4cae3b54bd4da1b6ea5cc9bf9b57089b1a0f70f2fc6c2b7',\n",
       " '114c3d3bff37e2dd1d72d8d0117b95aca9bba8ce0f97a199dd312d6d2f5a6dea',\n",
       " 'efb86f1d9315e4ba6ae03f0b77258a5e57bba55f6d29984bf01f37413dd23f04',\n",
       " 'e4aab9d1a790a24f8f09c8cfd32808524935323f9b8d6803924cd967e84b69e1',\n",
       " 'ec9b6779458b1f654c432b31eaf4d9a005ad757fc33156089c50c761b725ace1',\n",
       " '7d52445d9a3aaafe9a5b9e14aca8a607161c016cce44fd68e786c3cc8dedc154',\n",
       " '0e33ed2c0af9fdef3d55c6e74691200624cee954c75503aa8acb6447aabb5e4e',\n",
       " '1d8044e82911465621787855e18a9f3754da017a6a98cc0d611d18ae8eb1d832',\n",
       " 'a75295fbef9ade05f886d72b5aea8af8acbef7acd19edb5222c192af2966f8d3',\n",
       " '05ea1dbe1e1b2c00f4782c4bd67aacce7a57757ea6bc00d942ca4fce8006203c',\n",
       " '03df6c3cc7a7fc50f688f8b50dec5f13e1e52865834b5ce947402f2be6c0a1f4',\n",
       " '3423b50457a5062cfb874f3437c239ef7a08c536952ea49fa8259bb0d6d970b3',\n",
       " '7819c3620e9be6cfdfbacbcae8285dd0caf48e1c7c4c960cbbb65e3c11605b37',\n",
       " '3f973d3c8dd6927a8bb9a75013969b209585e62ec885138cc0710e81221dfc60',\n",
       " '688e65e86bf75bcf19e8c272ed90d82836cbfc1315193945f16cefde8f3af2c5',\n",
       " 'bd8eb67a3f1fb617adeee64806722914d548cdfb31218f3b56c2988f4e3e19dc',\n",
       " 'b0fc2a7928f316e635c23e80ffe9207abad11dec6a25b9ed52c47cc962aba5ff',\n",
       " '922b3c7f4e86571ba5750a0bb04f791994aa40c4073a47658fe0664f27ca3192',\n",
       " 'a9bf65902d10e25f7684fa89ec1d2605d537bb902b84fddcaeb2af5f63ed8733',\n",
       " '486b376d56bc50d14e79b8ad2b5648692b839c658e67c383e171a6c112ee5b5a',\n",
       " '9e5acfe9daa06e5cc25dac1268066f034b1e82524b45a1c208c10345eba45648',\n",
       " '40eed1b98abe4f7fb351a3d21f0f1116b83f3251a333780af6a5c73dfa30968e',\n",
       " '8893247920f1cbfacc59e787cd876cf3d037c4b960367794c543555de0ff3af9',\n",
       " '42ca7edab9fa46ccc33aab9b8e1c7456b8abadb26c6026a60eb7424a56f444c3',\n",
       " 'ab7bf426680552caa1dc449daac501402647da360e2b495684d2ea1b0df509fa',\n",
       " '6953e657d95f428e545eb2e2dab9ba5630ee7c3970779e908110e787d094965a',\n",
       " 'a879494687af6b49a2b127df62e6f345bd6a2251a7729613510b11f52b5c182c',\n",
       " 'eeaad8012df86aebdcd8fcfa7830ee3cb80b73f651c3a6e010811231c7f47a73',\n",
       " 'df0abd216c7624a4e7628b18c1ba7c873ea51327648574f52cd32f400e039d60',\n",
       " 'a9d63c04533fad9fe4b6ceeb494163b8697d05cde09fa683c738ad460ce8fa45',\n",
       " 'ff5cb95e7aca50dcb7e1975f8cf7840e3a15087ef498e4386876a84f5bd3fc56',\n",
       " '6d4105d2bf0f47fb0167dcf728a6b0378ded85fec2c3125e6e69f19ef488b36a',\n",
       " '7395515333037f98dc83427851586c1c61032326bcecbbf0d26704d5c4be0611',\n",
       " 'f439e67e2f9002fa89a757a43957a43c3681c6e7bfc8e7e81ccb861a8297629d',\n",
       " '65e0f423b7cc7c4652b486b3a859d49e86857ac9a92020d24dce391a723a4c5d',\n",
       " 'e7a82fdc22e5a9cf71a73465302fa5f09e4cf766f61fc3ab21e8455a5ff23983',\n",
       " '143142a72efe0da07ef460ce870e4eb0bfba784117783d1f02b8e6a8e9ad34f2',\n",
       " '7809aa4aa8252c9e58235be17050b6688667094763ae8984de90af2e2e7ba794',\n",
       " '94b13d20344f3771f2debcdc45eb5647d9742aefe86e58fb01de6cfdfbf795d4',\n",
       " '94f97b2c42f958ea15cbf8b8e9dbf7fb09376e8db53103cf36cbff7c9a416d4d',\n",
       " 'd59293a1a7fd810f057d551c5829b1fa8b23176749448682dc8900af0932595b',\n",
       " 'cd97705875af4a407ebd69eaf2baacd8860141e9022ccf62b562d65ff28cac42',\n",
       " 'f848859351ff7a9227bd6ef09bfef7473dd768b0b7e95b683532a3060aa9a72d',\n",
       " 'cd62700312c821ab9b817bbf8786016bf3135736c1e6946010b1b5776312191c',\n",
       " '839f186f70c1f5cfb90d1d586f8ac90441e71ad1f446d36afff54de062bf1748',\n",
       " '1746f8a73c720d1074adadbeb27e3a737f2117bbe19ee4e90caa3a99f269c657',\n",
       " 'be3386db563408d0c1dea1c20525a60054008568e037fbd995361dc24d1ecb0a',\n",
       " '08971cd9b4fb6f751061a68f257be6fa25ef9a146a3a4378e3c50c51d1213b31',\n",
       " '339803589d76df4ee0b6a9cc76cb1ffaf4aa276e91717cecc75bd07a85ee05f6',\n",
       " '59ffd7f699bb414959caeced783c93b4ef496af15052f702e67ee6fbb97f38cd',\n",
       " 'eb9c5ed2fffd5438d6a1401ff906b27788385617816d12b3a2f9409b2a6e1ac7',\n",
       " '6dec18680ea074b47fe203cf2c0262c03fdeaeae77d8df105c147b4802c67454',\n",
       " 'f96b5b4a5d81786e2d9198b094fc4818b98f36d2840005e63b96e5172512629a',\n",
       " 'a1ee4546c23115687311da9cd9ff7501b04688580d1a9ead7609788cc4301597',\n",
       " '3dbc9ca66fab267eec61990451a20816d0a34f826e828c4e8f552b07bf869c94',\n",
       " '4235d488a8a0a2f48244df9fa958a560c8308fde73cf1b46d56e4a6c1b15facf',\n",
       " '07c79846776bad169a74e55bf76158e74cde68ce6925b81a7e117de7c43f448d',\n",
       " '9f7ad4878661399e089a004885647f4237d36982732a528e20d2384c60cd7072',\n",
       " '949060c035b25d834cfc380e3da29cd129994c6b200d548b570f3afd42eb968f',\n",
       " '22300f2125ea85f9512d81e774c2c6e1db3da3b74e9007ad158580425fd374c9',\n",
       " 'de13f895fbea7c1e3ec902892d0bfd007d0471e93abcadaea64957cb3c8b1f41',\n",
       " '93789ae618315bb0b793ad04d0d831e047a221189bc66f3970822d6e8c8a4c86',\n",
       " '3621e485b251cddec922bfc2759994d10e2095aa4b406823af518d5f4ec16a60',\n",
       " 'd8b94ee71140c44c700fb1515f3cfba81252e9484445626ab291161b8b9cea71']"
      ]
     },
     "execution_count": 12,
     "metadata": {},
     "output_type": "execute_result"
    }
   ],
   "source": [
    "import os\n",
    "os.listdir(labptptm2.config.cache_storage)     # these cached files are not human-readable:)"
   ]
  },
  {
   "cell_type": "markdown",
   "id": "95abeaa0-c7f9-4c8f-b4e4-50d5a8df2f11",
   "metadata": {},
   "source": [
    "The default cache location is the OS {Temporary Folder}, which gets cleared each time OS restarts. You can set `labptptm2.config.cache_storage` to other path to enable permanent data cache:\n",
    "``` python\n",
    "labptptm2.config.cache_storage = os.getcwd()             # current working directory\n",
    "labptptm2.config.cache_storage = 'D:/data'               # Windows\n",
    "labptptm2.config.cache_storage = '/home/spongebob/data'  # *nix\n",
    "labptptm2.config.cache_storage = '/Users/spongebob/data' # MacOS\n",
    "```"
   ]
  },
  {
   "cell_type": "markdown",
   "id": "95284057-8aa7-400f-aee7-c938314e46e3",
   "metadata": {
    "execution": {
     "iopub.execute_input": "2021-09-28T06:02:37.452831Z",
     "iopub.status.busy": "2021-09-28T06:02:37.452616Z",
     "iopub.status.idle": "2021-09-28T06:02:37.455574Z",
     "shell.execute_reply": "2021-09-28T06:02:37.455055Z",
     "shell.execute_reply.started": "2021-09-28T06:02:37.452809Z"
    }
   },
   "source": [
    "## Configuration"
   ]
  },
  {
   "cell_type": "markdown",
   "id": "fab6691f-f411-4e43-b4bf-07c81a40344c",
   "metadata": {},
   "source": [
    "there are a few options to customize:"
   ]
  },
  {
   "cell_type": "code",
   "execution_count": 13,
   "id": "fa723536-ff22-4549-a252-12d9a5c49811",
   "metadata": {
    "execution": {
     "iopub.execute_input": "2021-09-29T07:14:54.367010Z",
     "iopub.status.busy": "2021-09-29T07:14:54.366788Z",
     "iopub.status.idle": "2021-09-29T07:14:54.370753Z",
     "shell.execute_reply": "2021-09-29T07:14:54.370356Z",
     "shell.execute_reply.started": "2021-09-29T07:14:54.366987Z"
    },
    "tags": []
   },
   "outputs": [
    {
     "data": {
      "text/plain": [
       "store: None\n",
       "remote: s3://optcommpubdataqrfan/labptptm2_zarr\n",
       "cache_storage: /tmp/labptptm2"
      ]
     },
     "execution_count": 13,
     "metadata": {},
     "output_type": "execute_result"
    }
   ],
   "source": [
    "labptptm2.config"
   ]
  },
  {
   "cell_type": "markdown",
   "id": "9eac4abc-7d87-4045-af4c-87711342d8c5",
   "metadata": {},
   "source": [
    "- `store`: target store from which data is quried if not locally cached, `None` means use remote store\n",
    "- `remote`: address of remote store, which is not supposed to be changed\n",
    "- `cache_storage`: the location of local cache, change this to other path to enable permanent cache."
   ]
  },
  {
   "cell_type": "markdown",
   "id": "fd88252f-bebe-4c5a-b8a9-777929f211e2",
   "metadata": {},
   "source": [
    "In the above Local cache example, to persist cache storage without hardcoding the `labptptm2.config.cache_storage = xxx`, you may use configuration file in YAML format. You can dump the default setting to make one first."
   ]
  },
  {
   "cell_type": "code",
   "execution_count": 14,
   "id": "02237f64-73df-4b45-94e4-0f524be79a7d",
   "metadata": {
    "execution": {
     "iopub.execute_input": "2021-09-29T07:14:57.592769Z",
     "iopub.status.busy": "2021-09-29T07:14:57.592127Z",
     "iopub.status.idle": "2021-09-29T07:14:57.635337Z",
     "shell.execute_reply": "2021-09-29T07:14:57.634794Z",
     "shell.execute_reply.started": "2021-09-29T07:14:57.592745Z"
    },
    "tags": []
   },
   "outputs": [],
   "source": [
    "labptptm2.config.dump()  # dump to current working directory by default"
   ]
  },
  {
   "cell_type": "code",
   "execution_count": 15,
   "id": "bde81699-c9ae-4e9a-8c87-b5d2b29d6db9",
   "metadata": {
    "execution": {
     "iopub.execute_input": "2021-09-29T07:14:58.088621Z",
     "iopub.status.busy": "2021-09-29T07:14:58.088287Z",
     "iopub.status.idle": "2021-09-29T07:14:58.092948Z",
     "shell.execute_reply": "2021-09-29T07:14:58.092459Z",
     "shell.execute_reply.started": "2021-09-29T07:14:58.088595Z"
    },
    "tags": []
   },
   "outputs": [
    {
     "name": "stdout",
     "output_type": "stream",
     "text": [
      "cache_storage: /tmp/labptptm2\n",
      "remote: s3://optcommpubdataqrfan/labptptm2_zarr\n",
      "store: null\n",
      "\n"
     ]
    }
   ],
   "source": [
    "with open('labptptm2.yaml', 'r') as f:\n",
    "    print(f.read())"
   ]
  },
  {
   "cell_type": "markdown",
   "id": "781ef22f-5e87-44f5-81a5-9a795b6de5c2",
   "metadata": {},
   "source": [
    "now you can update this config file, and `labptptm2.config` will automatically load its content if it is found on initial import."
   ]
  },
  {
   "cell_type": "markdown",
   "id": "d5dc06b3-82e6-4a58-b302-dcd8618a69eb",
   "metadata": {
    "execution": {
     "iopub.execute_input": "2021-09-28T05:04:16.723869Z",
     "iopub.status.busy": "2021-09-28T05:04:16.723606Z",
     "iopub.status.idle": "2021-09-28T05:04:16.727526Z",
     "shell.execute_reply": "2021-09-28T05:04:16.727056Z",
     "shell.execute_reply.started": "2021-09-28T05:04:16.723805Z"
    }
   },
   "source": [
    "## Remote storage and direct access\n",
    "Now let's take a look at the remote storage"
   ]
  },
  {
   "cell_type": "code",
   "execution_count": 16,
   "id": "d3daece8-6b37-4251-b554-741402773c2c",
   "metadata": {
    "execution": {
     "iopub.execute_input": "2021-09-29T07:15:01.475910Z",
     "iopub.status.busy": "2021-09-29T07:15:01.475575Z",
     "iopub.status.idle": "2021-09-29T07:15:02.034003Z",
     "shell.execute_reply": "2021-09-29T07:15:02.033743Z",
     "shell.execute_reply.started": "2021-09-29T07:15:01.475886Z"
    },
    "tags": []
   },
   "outputs": [
    {
     "data": {
      "text/html": [
       "<table class=\"zarr-info\"><tbody><tr><th style=\"text-align: left\">Name</th><td style=\"text-align: left\">/</td></tr><tr><th style=\"text-align: left\">Type</th><td style=\"text-align: left\">zarr.hierarchy.Group</td></tr><tr><th style=\"text-align: left\">Read-only</th><td style=\"text-align: left\">False</td></tr><tr><th style=\"text-align: left\">Store type</th><td style=\"text-align: left\">zarr.storage.ConsolidatedMetadataStore</td></tr><tr><th style=\"text-align: left\">Chunk store type</th><td style=\"text-align: left\">zarr.storage.FSStore</td></tr><tr><th style=\"text-align: left\">No. members</th><td style=\"text-align: left\">3</td></tr><tr><th style=\"text-align: left\">No. arrays</th><td style=\"text-align: left\">0</td></tr><tr><th style=\"text-align: left\">No. groups</th><td style=\"text-align: left\">3</td></tr><tr><th style=\"text-align: left\">Groups</th><td style=\"text-align: left\">1125km_SSMF, source, supdata</td></tr></tbody></table>"
      ],
      "text/plain": [
       "Name             : /\n",
       "Type             : zarr.hierarchy.Group\n",
       "Read-only        : False\n",
       "Store type       : zarr.storage.ConsolidatedMetadataStore\n",
       "Chunk store type : zarr.storage.FSStore\n",
       "No. members      : 3\n",
       "No. arrays       : 0\n",
       "No. groups       : 3\n",
       "Groups           : 1125km_SSMF, source, supdata"
      ]
     },
     "execution_count": 16,
     "metadata": {},
     "output_type": "execute_result"
    }
   ],
   "source": [
    "root = labptptm2.open_group()\n",
    "\n",
    "root.info"
   ]
  },
  {
   "cell_type": "markdown",
   "id": "36362fd5-8f62-4e42-b90f-412c3ac99947",
   "metadata": {},
   "source": [
    "there are 3 groups, let's see the info of '1125km_SSMF' group"
   ]
  },
  {
   "cell_type": "code",
   "execution_count": 17,
   "id": "cfc2fb55-21f2-4bcb-a11a-af5b4fdbd4d1",
   "metadata": {
    "execution": {
     "iopub.execute_input": "2021-09-29T07:15:02.738592Z",
     "iopub.status.busy": "2021-09-29T07:15:02.738061Z",
     "iopub.status.idle": "2021-09-29T07:15:02.749487Z",
     "shell.execute_reply": "2021-09-29T07:15:02.749245Z",
     "shell.execute_reply.started": "2021-09-29T07:15:02.738565Z"
    },
    "tags": []
   },
   "outputs": [
    {
     "data": {
      "text/html": [
       "<table class=\"zarr-info\"><tbody><tr><th style=\"text-align: left\">Name</th><td style=\"text-align: left\">/1125km_SSMF</td></tr><tr><th style=\"text-align: left\">Type</th><td style=\"text-align: left\">zarr.hierarchy.Group</td></tr><tr><th style=\"text-align: left\">Read-only</th><td style=\"text-align: left\">False</td></tr><tr><th style=\"text-align: left\">Store type</th><td style=\"text-align: left\">zarr.storage.ConsolidatedMetadataStore</td></tr><tr><th style=\"text-align: left\">Chunk store type</th><td style=\"text-align: left\">zarr.storage.FSStore</td></tr><tr><th style=\"text-align: left\">No. members</th><td style=\"text-align: left\">2</td></tr><tr><th style=\"text-align: left\">No. arrays</th><td style=\"text-align: left\">0</td></tr><tr><th style=\"text-align: left\">No. groups</th><td style=\"text-align: left\">2</td></tr><tr><th style=\"text-align: left\">Groups</th><td style=\"text-align: left\">src1, src2</td></tr></tbody></table>"
      ],
      "text/plain": [
       "Name             : /1125km_SSMF\n",
       "Type             : zarr.hierarchy.Group\n",
       "Read-only        : False\n",
       "Store type       : zarr.storage.ConsolidatedMetadataStore\n",
       "Chunk store type : zarr.storage.FSStore\n",
       "No. members      : 2\n",
       "No. arrays       : 0\n",
       "No. groups       : 2\n",
       "Groups           : src1, src2"
      ]
     },
     "execution_count": 17,
     "metadata": {},
     "output_type": "execute_result"
    }
   ],
   "source": [
    "root['1125km_SSMF'].info"
   ]
  },
  {
   "cell_type": "markdown",
   "id": "9156603a-0735-4431-9747-f9463aa1d8e1",
   "metadata": {},
   "source": [
    "by repeatedly entering the deeper groups, you would end up with the data's metadata we have seen above"
   ]
  },
  {
   "cell_type": "code",
   "execution_count": 18,
   "id": "65acc19c-af39-46e9-9d7d-161f29892c56",
   "metadata": {
    "execution": {
     "iopub.execute_input": "2021-09-29T07:15:05.613801Z",
     "iopub.status.busy": "2021-09-29T07:15:05.613573Z",
     "iopub.status.idle": "2021-09-29T07:15:05.689180Z",
     "shell.execute_reply": "2021-09-29T07:15:05.688688Z",
     "shell.execute_reply.started": "2021-09-29T07:15:05.613778Z"
    },
    "tags": []
   },
   "outputs": [
    {
     "data": {
      "text/html": [
       "<table class=\"zarr-info\"><tbody><tr><th style=\"text-align: left\">Name</th><td style=\"text-align: left\">/1125km_SSMF/src1/-1dBm_ch1_1/recv</td></tr><tr><th style=\"text-align: left\">Type</th><td style=\"text-align: left\">zarr.core.Array</td></tr><tr><th style=\"text-align: left\">Data type</th><td style=\"text-align: left\">complex64</td></tr><tr><th style=\"text-align: left\">Shape</th><td style=\"text-align: left\">(4500000, 2)</td></tr><tr><th style=\"text-align: left\">Chunk shape</th><td style=\"text-align: left\">(140625, 1)</td></tr><tr><th style=\"text-align: left\">Order</th><td style=\"text-align: left\">C</td></tr><tr><th style=\"text-align: left\">Read-only</th><td style=\"text-align: left\">False</td></tr><tr><th style=\"text-align: left\">Compressor</th><td style=\"text-align: left\">Blosc(cname='lz4', clevel=5, shuffle=SHUFFLE, blocksize=0)</td></tr><tr><th style=\"text-align: left\">Store type</th><td style=\"text-align: left\">zarr.storage.ConsolidatedMetadataStore</td></tr><tr><th style=\"text-align: left\">Chunk store type</th><td style=\"text-align: left\">zarr.storage.FSStore</td></tr><tr><th style=\"text-align: left\">No. bytes</th><td style=\"text-align: left\">72000000 (68.7M)</td></tr><tr><th style=\"text-align: left\">Chunks initialized</th><td style=\"text-align: left\">64/64</td></tr></tbody></table>"
      ],
      "text/plain": [
       "Name               : /1125km_SSMF/src1/-1dBm_ch1_1/recv\n",
       "Type               : zarr.core.Array\n",
       "Data type          : complex64\n",
       "Shape              : (4500000, 2)\n",
       "Chunk shape        : (140625, 1)\n",
       "Order              : C\n",
       "Read-only          : False\n",
       "Compressor         : Blosc(cname='lz4', clevel=5, shuffle=SHUFFLE, blocksize=0)\n",
       "Store type         : zarr.storage.ConsolidatedMetadataStore\n",
       "Chunk store type   : zarr.storage.FSStore\n",
       "No. bytes          : 72000000 (68.7M)\n",
       "Chunks initialized : 64/64"
      ]
     },
     "execution_count": 18,
     "metadata": {},
     "output_type": "execute_result"
    }
   ],
   "source": [
    "root['1125km_SSMF/src1/-1dBm_ch1_1/recv'].info"
   ]
  },
  {
   "cell_type": "markdown",
   "id": "c8507895-6f7b-414c-bf43-bcbdc37fdc6e",
   "metadata": {},
   "source": [
    "Such `root[{path string}]` access shows that data is organized by directory-like (so called 'Group') structure. (DON'T use Win-stype `\\` seperator)\n",
    "\n",
    "You can interactively navigate it! (needs Kernel, [not working in Colab](https://github.com/QuantStack/ipytree/issues/32#issuecomment-647098636))"
   ]
  },
  {
   "cell_type": "code",
   "execution_count": 19,
   "id": "3eb475e7-c582-464a-81b0-8d2dedb4f584",
   "metadata": {
    "execution": {
     "iopub.execute_input": "2021-09-29T07:15:06.958354Z",
     "iopub.status.busy": "2021-09-29T07:15:06.958023Z",
     "iopub.status.idle": "2021-09-29T07:15:09.625137Z",
     "shell.execute_reply": "2021-09-29T07:15:09.624832Z",
     "shell.execute_reply.started": "2021-09-29T07:15:06.958328Z"
    },
    "tags": []
   },
   "outputs": [
    {
     "data": {
      "application/vnd.jupyter.widget-view+json": {
       "model_id": "26854915dc634623a98be1ddef66df38",
       "version_major": 2,
       "version_minor": 0
      },
      "text/plain": [
       "Tree(nodes=(Node(disabled=True, name='/', nodes=(Node(disabled=True, name='1125km_SSMF', nodes=(Node(disabled=…"
      ]
     },
     "metadata": {},
     "output_type": "display_data"
    }
   ],
   "source": [
    "root.tree() # click + to expand that directory and - to fold it, no heavy data download"
   ]
  },
  {
   "cell_type": "code",
   "execution_count": 20,
   "id": "e7abf5ba-2df7-4244-af08-a007ed35b03c",
   "metadata": {
    "execution": {
     "iopub.execute_input": "2021-09-29T07:15:12.280693Z",
     "iopub.status.busy": "2021-09-29T07:15:12.280469Z",
     "iopub.status.idle": "2021-09-29T07:15:14.029397Z",
     "shell.execute_reply": "2021-09-29T07:15:14.029092Z",
     "shell.execute_reply.started": "2021-09-29T07:15:12.280668Z"
    },
    "tags": []
   },
   "outputs": [
    {
     "data": {
      "application/vnd.jupyter.widget-view+json": {
       "model_id": "455d9c3f42254e16a31d0999282287d5",
       "version_major": 2,
       "version_minor": 0
      },
      "text/plain": [
       "Tree(nodes=(Node(disabled=True, name='1125km_SSMF', nodes=(Node(disabled=True, name='src1', nodes=(Node(disabl…"
      ]
     },
     "metadata": {},
     "output_type": "display_data"
    }
   ],
   "source": [
    "root['1125km_SSMF'].tree() # sub-groups also have tree function"
   ]
  },
  {
   "cell_type": "markdown",
   "id": "23812b7e-ae0c-4824-ad6e-a889c67b5373",
   "metadata": {},
   "source": [
    "Still, data is only downloaded when it gets sliced"
   ]
  },
  {
   "cell_type": "code",
   "execution_count": 21,
   "id": "79ea7b89-ede0-4fef-9ddd-31fb1ed50c02",
   "metadata": {
    "execution": {
     "iopub.execute_input": "2021-09-29T07:15:18.788353Z",
     "iopub.status.busy": "2021-09-29T07:15:18.788132Z",
     "iopub.status.idle": "2021-09-29T07:15:20.266019Z",
     "shell.execute_reply": "2021-09-29T07:15:20.265482Z",
     "shell.execute_reply.started": "2021-09-29T07:15:18.788329Z"
    },
    "tags": []
   },
   "outputs": [],
   "source": [
    "data = root['1125km_SSMF/src1/-1dBm_ch1_1/recv'][:10000] # slicer [:] would download the whole file"
   ]
  },
  {
   "cell_type": "markdown",
   "id": "fb9e5d2c-6343-4539-9e72-23728dc78c71",
   "metadata": {},
   "source": [
    "The convenience data API introduced at begining is an extra layer built on top of such direct access. "
   ]
  },
  {
   "cell_type": "markdown",
   "id": "b2ab4fba-38e4-4a00-9662-e0577fb583bc",
   "metadata": {},
   "source": [
    "## Clone the entire remote store"
   ]
  },
  {
   "cell_type": "markdown",
   "id": "df02d771-bcc7-401e-a20f-3760b7d4d091",
   "metadata": {
    "execution": {
     "iopub.execute_input": "2021-09-28T08:57:06.049435Z",
     "iopub.status.busy": "2021-09-28T08:57:06.049214Z",
     "iopub.status.idle": "2021-09-28T08:57:06.052246Z",
     "shell.execute_reply": "2021-09-28T08:57:06.051696Z",
     "shell.execute_reply.started": "2021-09-28T08:57:06.049412Z"
    },
    "tags": []
   },
   "source": [
    "Though we suggest using remote store with local cache layer to achieve on-demand data query, we still provide single function to clone the entire data store conveniently.\n",
    "\n",
    "The entire data store has size of around 27 GB, so clone it if you have good bandwidth.\n",
    "\n",
    "``` python\n",
    "import sys\n",
    "\n",
    "labptptm2.clone_store('./labptptm2', log=sys.stdout)  # copy the entire store to ./labptptm2 !\n",
    "\n",
    "# once the local store is ready, you need to update labptptm2.config.store\n",
    "\n",
    "labptptm2.config.store = './labptptm2'\n",
    "\n",
    "# it is suggested to use configuration file\n",
    "```\n",
    "\n",
    "Fiannly, no more data downloading and caching, data would be loaded from the local store directly from now on."
   ]
  }
 ],
 "metadata": {
  "kernelspec": {
   "display_name": "commplax",
   "language": "python",
   "name": "commplax"
  },
  "language_info": {
   "codemirror_mode": {
    "name": "ipython",
    "version": 3
   },
   "file_extension": ".py",
   "mimetype": "text/x-python",
   "name": "python",
   "nbconvert_exporter": "python",
   "pygments_lexer": "ipython3",
   "version": "3.8.11"
  }
 },
 "nbformat": 4,
 "nbformat_minor": 5
}
